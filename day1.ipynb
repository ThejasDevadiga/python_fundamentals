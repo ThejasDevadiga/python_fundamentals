{
 "cells": [
  {
   "cell_type": "code",
   "execution_count": 6,
   "metadata": {},
   "outputs": [
    {
     "name": "stdout",
     "output_type": "stream",
     "text": [
      "int qustnt 5\n",
      "(5, 4)\n"
     ]
    }
   ],
   "source": [
    "val = 29/5\n",
    "print(divmod(29,5))\n",
    "\n"
   ]
  },
  {
   "cell_type": "code",
   "execution_count": 1,
   "metadata": {},
   "outputs": [
    {
     "data": {
      "text/plain": [
       "782"
      ]
     },
     "execution_count": 1,
     "metadata": {},
     "output_type": "execute_result"
    }
   ],
   "source": [
    "int(\"1100001110\",base=2)"
   ]
  },
  {
   "cell_type": "code",
   "execution_count": 5,
   "metadata": {},
   "outputs": [
    {
     "data": {
      "text/plain": [
       "'0xc3'"
      ]
     },
     "execution_count": 5,
     "metadata": {},
     "output_type": "execute_result"
    }
   ],
   "source": [
    "hex(195)"
   ]
  },
  {
   "cell_type": "code",
   "execution_count": 6,
   "metadata": {},
   "outputs": [
    {
     "data": {
      "text/plain": [
       "'0o303'"
      ]
     },
     "execution_count": 6,
     "metadata": {},
     "output_type": "execute_result"
    }
   ],
   "source": [
    "oct(195)"
   ]
  },
  {
   "cell_type": "code",
   "execution_count": 10,
   "metadata": {},
   "outputs": [
    {
     "data": {
      "text/plain": [
       "'olleh'"
      ]
     },
     "execution_count": 10,
     "metadata": {},
     "output_type": "execute_result"
    }
   ],
   "source": [
    "\"hello\"[::-1]"
   ]
  },
  {
   "cell_type": "code",
   "execution_count": 15,
   "metadata": {},
   "outputs": [
    {
     "data": {
      "text/plain": [
       "'0b11000011'"
      ]
     },
     "execution_count": 15,
     "metadata": {},
     "output_type": "execute_result"
    }
   ],
   "source": [
    "bin(195)"
   ]
  },
  {
   "cell_type": "code",
   "execution_count": 4,
   "metadata": {},
   "outputs": [
    {
     "name": "stdout",
     "output_type": "stream",
     "text": [
      "A\n",
      "Al\n",
      "Alv\n",
      "Alva\n",
      "Alvas\n",
      "Alvas \n",
      "Alvas e\n",
      "Alvas en\n",
      "Alvas eng\n",
      "Alvas engi\n",
      "Alvas engin\n",
      "Alvas engine\n",
      "Alvas enginee\n",
      "Alvas engineer\n",
      "Alvas engineeri\n",
      "Alvas engineerin\n",
      "Alvas engineering\n",
      "Alvas engineering \n",
      "Alvas engineering c\n",
      "Alvas engineering co\n",
      "Alvas engineering col\n",
      "Alvas engineering coll\n",
      "Alvas engineering colle\n",
      "Alvas engineering colleg\n",
      "Alvas engineering college\n"
     ]
    }
   ],
   "source": [
    "string = \"Alvas engineering college\"\n",
    "for i in range(len(string)):\n",
    "    print(string[0:i+1])\n"
   ]
  },
  {
   "cell_type": "code",
   "execution_count": 26,
   "metadata": {},
   "outputs": [
    {
     "name": "stdout",
     "output_type": "stream",
     "text": [
      "Alvas engineering college\n",
      "Alvas engineering colleg\n",
      "Alvas engineering colle\n",
      "Alvas engineering coll\n",
      "Alvas engineering col\n",
      "Alvas engineering co\n",
      "Alvas engineering c\n",
      "Alvas engineering \n",
      "Alvas engineering\n",
      "Alvas engineerin\n",
      "Alvas engineeri\n",
      "Alvas engineer\n",
      "Alvas enginee\n",
      "Alvas engine\n",
      "Alvas engin\n",
      "Alvas engi\n",
      "Alvas eng\n",
      "Alvas en\n",
      "Alvas e\n",
      "Alvas \n",
      "Alvas\n",
      "Alva\n",
      "Alv\n",
      "Al\n",
      "A\n"
     ]
    }
   ],
   "source": [
    "for i in range(len(\"Alvas engineering college\")):\n",
    "    print(\"Alvas engineering college\"[0:len(\"Alvas engineering college\")-i])"
   ]
  },
  {
   "cell_type": "code",
   "execution_count": 14,
   "metadata": {},
   "outputs": [
    {
     "name": "stdout",
     "output_type": "stream",
     "text": [
      "A\n",
      "BB\n",
      "CCC\n",
      "DDDD\n",
      "EEEEE\n"
     ]
    }
   ],
   "source": [
    "s = \"A\"\n",
    "e = \"F\"\n",
    "count = 1\n",
    "while s!=e:\n",
    "    for i in range(count):\n",
    "        print(s,end=\"\")\n",
    "    count +=1\n",
    "    s = chr(ord(s)+1)\n",
    "    print('')"
   ]
  },
  {
   "cell_type": "code",
   "execution_count": 29,
   "metadata": {},
   "outputs": [
    {
     "name": "stdout",
     "output_type": "stream",
     "text": [
      "A\n",
      "AB\n",
      "ABC\n",
      "ABCD\n",
      "ABCDE\n",
      "ABCDEF\n",
      "ABCDEFG\n",
      "ABCDEFGH\n",
      "ABCDEFGHI\n",
      "ABCDEFGHIJ\n"
     ]
    }
   ],
   "source": [
    "count = 1 \n",
    "for i in range(10):\n",
    "    s = \"A\"\n",
    "    for i in range(count):\n",
    "        print(s,end=\"\")\n",
    "        s = chr(ord(s)+1)\n",
    "    print('')\n",
    "    count += 1\n",
    "        "
   ]
  },
  {
   "cell_type": "code",
   "execution_count": 50,
   "metadata": {},
   "outputs": [
    {
     "name": "stdout",
     "output_type": "stream",
     "text": [
      "How  Are  YouHello Bro\n"
     ]
    },
    {
     "data": {
      "text/plain": [
       "'Hello'"
      ]
     },
     "execution_count": 50,
     "metadata": {},
     "output_type": "execute_result"
    }
   ],
   "source": [
    "strg = \"how are you\"\n",
    "upper = True\n",
    "for i in range(len(strg)):\n",
    "    \n",
    "    if upper:\n",
    "        print(strg[i].upper(),end=\"\")\n",
    "        upper = False\n",
    "    else:\n",
    "        print(strg[i],end=\"\")\n",
    "    if strg[i]==\" \":\n",
    "        upper = True\n",
    "        print(\" \",end=\"\")\n",
    "print(\"hello\".title())\n",
    "[i.capitalize()  for i in \"hello\".split()]"
   ]
  },
  {
   "cell_type": "code",
   "execution_count": 3,
   "metadata": {},
   "outputs": [
    {
     "data": {
      "text/plain": [
       "1728"
      ]
     },
     "execution_count": 3,
     "metadata": {},
     "output_type": "execute_result"
    }
   ],
   "source": [
    "# print ramanujan number\n",
    "# print armstrong number\n",
    "# print perfect number\n",
    "# print happy number\n",
    "# print prime number\n",
    "# print fibonacci series\n",
    "# print factorial\n",
    "# print palindrome\n",
    "# print reverse number\n",
    "# print reverse string\n",
    "# print reverse words\n",
    "# print reverse words in string\n",
    "# print reverse words in sentence\n",
    "# print reverse words in paragraph"
   ]
  },
  {
   "cell_type": "code",
   "execution_count": null,
   "metadata": {},
   "outputs": [],
   "source": []
  }
 ],
 "metadata": {
  "kernelspec": {
   "display_name": "Python 3",
   "language": "python",
   "name": "python3"
  },
  "language_info": {
   "codemirror_mode": {
    "name": "ipython",
    "version": 3
   },
   "file_extension": ".py",
   "mimetype": "text/x-python",
   "name": "python",
   "nbconvert_exporter": "python",
   "pygments_lexer": "ipython3",
   "version": "3.10.10"
  },
  "orig_nbformat": 4
 },
 "nbformat": 4,
 "nbformat_minor": 2
}
