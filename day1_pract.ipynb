{
 "cells": [
  {
   "cell_type": "code",
   "execution_count": null,
   "metadata": {},
   "outputs": [],
   "source": [
    "#add two numbers\n",
    "a=10\n",
    "b=20\n",
    "print(a+b)"
   ]
  },
  {
   "cell_type": "code",
   "execution_count": null,
   "metadata": {},
   "outputs": [],
   "source": [
    "# add two numbers from user input\n",
    "\n",
    "a = int(input(\"Enter the first number : \"))\n",
    "b = int(input(\"Enter the second number : \"))\n",
    "print(\"The sum of two numbers is : \",a+b)"
   ]
  },
  {
   "cell_type": "code",
   "execution_count": null,
   "metadata": {},
   "outputs": [],
   "source": [
    "# maximum of two numbers\n",
    "def max_of_two(x, y):\n",
    "    if x > y:\n",
    "        return x\n",
    "    return y\n",
    "\n",
    "\n",
    "\n",
    "print(max_of_two(3, 6))"
   ]
  },
  {
   "cell_type": "code",
   "execution_count": null,
   "metadata": {},
   "outputs": [],
   "source": [
    "# code to  find area of circle\n",
    "\n",
    "r = float(input(\"Enter the radius of circle: \"))\n",
    "area = 3.14*r*r\n",
    "print(\"Area of circle is: \",area)\n",
    "\n"
   ]
  },
  {
   "cell_type": "code",
   "execution_count": null,
   "metadata": {},
   "outputs": [],
   "source": [
    "# code to find given number prime\n",
    "\n",
    "num = int(input(\"Enter the number : \"))\n",
    "if num==1:\n",
    "    print(\"Its not a prime number\")\n",
    "    exit()\n",
    "for i in range(2,num):\n",
    "    if num%i==0:\n",
    "        print(\"Its not a prime number\")\n",
    "        exit()\n",
    "print(\"Its a prime number\")\n",
    "#"
   ]
  },
  {
   "cell_type": "code",
   "execution_count": null,
   "metadata": {},
   "outputs": [],
   "source": [
    "# code to find ASCII value of a number\n",
    "\n",
    "num = int(input(\"Enter the number : \"))\n",
    "print(\"The ASCII value of {} is {}\".format(num,ord(num)))\n"
   ]
  },
  {
   "cell_type": "code",
   "execution_count": null,
   "metadata": {},
   "outputs": [],
   "source": [
    "# split the array by k and add these at the end\n",
    "\n",
    "arr = [1,2,3,4,5,6,7]\n",
    "\n",
    "k = int(input(\"Enter the value : \"))\n",
    "\n",
    "arr1 = arr[0:k]\n"
   ]
  }
 ],
 "metadata": {
  "language_info": {
   "name": "python"
  },
  "orig_nbformat": 4
 },
 "nbformat": 4,
 "nbformat_minor": 2
}
