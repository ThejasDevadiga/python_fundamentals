{
 "cells": [
  {
   "cell_type": "code",
   "execution_count": 1,
   "metadata": {},
   "outputs": [],
   "source": [
    "msg = \"keep yourself warm \"\n"
   ]
  },
  {
   "cell_type": "code",
   "execution_count": 15,
   "metadata": {},
   "outputs": [
    {
     "data": {
      "text/plain": [
       "('keep', ' ', 'yourself warm ')"
      ]
     },
     "execution_count": 15,
     "metadata": {},
     "output_type": "execute_result"
    }
   ],
   "source": [
    "msg.partition(' ')"
   ]
  },
  {
   "cell_type": "code",
   "execution_count": 16,
   "metadata": {},
   "outputs": [
    {
     "data": {
      "text/plain": [
       "['keep', 'yourself', 'warm', '']"
      ]
     },
     "execution_count": 16,
     "metadata": {},
     "output_type": "execute_result"
    }
   ],
   "source": [
    "msg.split(' ')"
   ]
  },
  {
   "cell_type": "code",
   "execution_count": 7,
   "metadata": {},
   "outputs": [
    {
     "data": {
      "text/plain": [
       "True"
      ]
     },
     "execution_count": 7,
     "metadata": {},
     "output_type": "execute_result"
    }
   ],
   "source": [
    "msg.startswith('keep')"
   ]
  },
  {
   "cell_type": "code",
   "execution_count": 8,
   "metadata": {},
   "outputs": [
    {
     "data": {
      "text/plain": [
       "False"
      ]
     },
     "execution_count": 8,
     "metadata": {},
     "output_type": "execute_result"
    }
   ],
   "source": [
    "msg.endswith('keep')"
   ]
  },
  {
   "cell_type": "code",
   "execution_count": 9,
   "metadata": {},
   "outputs": [
    {
     "data": {
      "text/plain": [
       "'KEEP YOURSELF WARM '"
      ]
     },
     "execution_count": 9,
     "metadata": {},
     "output_type": "execute_result"
    }
   ],
   "source": [
    "msg.swapcase()"
   ]
  },
  {
   "cell_type": "code",
   "execution_count": 10,
   "metadata": {},
   "outputs": [
    {
     "data": {
      "text/plain": [
       "'Keep yourself warm '"
      ]
     },
     "execution_count": 10,
     "metadata": {},
     "output_type": "execute_result"
    }
   ],
   "source": [
    "msg.capitalize()"
   ]
  },
  {
   "cell_type": "code",
   "execution_count": 13,
   "metadata": {},
   "outputs": [
    {
     "data": {
      "text/plain": [
       "3"
      ]
     },
     "execution_count": 13,
     "metadata": {},
     "output_type": "execute_result"
    }
   ],
   "source": [
    "msg.count('e')"
   ]
  },
  {
   "cell_type": "code",
   "execution_count": 14,
   "metadata": {},
   "outputs": [
    {
     "data": {
      "text/plain": [
       "19"
      ]
     },
     "execution_count": 14,
     "metadata": {},
     "output_type": "execute_result"
    }
   ],
   "source": [
    "len(msg)"
   ]
  },
  {
   "cell_type": "code",
   "execution_count": 20,
   "metadata": {},
   "outputs": [],
   "source": [
    "i ,j ,k = 4 ,-1, 0\n",
    "\n"
   ]
  },
  {
   "cell_type": "code",
   "execution_count": 21,
   "metadata": {},
   "outputs": [
    {
     "data": {
      "text/plain": [
       "4"
      ]
     },
     "execution_count": 21,
     "metadata": {},
     "output_type": "execute_result"
    }
   ],
   "source": [
    "i or j or k"
   ]
  },
  {
   "cell_type": "code",
   "execution_count": 22,
   "metadata": {},
   "outputs": [
    {
     "data": {
      "text/plain": [
       "0"
      ]
     },
     "execution_count": 22,
     "metadata": {},
     "output_type": "execute_result"
    }
   ],
   "source": [
    "i and j and k"
   ]
  },
  {
   "cell_type": "code",
   "execution_count": 24,
   "metadata": {},
   "outputs": [
    {
     "data": {
      "text/plain": [
       "4"
      ]
     },
     "execution_count": 24,
     "metadata": {},
     "output_type": "execute_result"
    }
   ],
   "source": [
    "i or j and k\n"
   ]
  },
  {
   "cell_type": "code",
   "execution_count": 33,
   "metadata": {},
   "outputs": [
    {
     "data": {
      "text/plain": [
       "-1"
      ]
     },
     "execution_count": 33,
     "metadata": {},
     "output_type": "execute_result"
    }
   ],
   "source": [
    "\n",
    "i and j or k"
   ]
  },
  {
   "cell_type": "code",
   "execution_count": 40,
   "metadata": {},
   "outputs": [
    {
     "name": "stdout",
     "output_type": "stream",
     "text": [
      "1\n",
      "3\n",
      "5\n",
      "7\n",
      "9\n",
      "11\n",
      "13\n",
      "15\n",
      "17\n",
      "19\n",
      "21\n",
      "23\n"
     ]
    }
   ],
   "source": [
    "#  odd numbers \n",
    "for i in range(1,26,2):\n",
    "    print(i)"
   ]
  },
  {
   "cell_type": "code",
   "execution_count": 42,
   "metadata": {},
   "outputs": [
    {
     "data": {
      "text/plain": [
       "5"
      ]
     },
     "execution_count": 42,
     "metadata": {},
     "output_type": "execute_result"
    }
   ],
   "source": [
    "count = 0\n",
    "for i in input(\"Enter the string\"):\n",
    "    if i.isalpha():\n",
    "        count+=1\n",
    "count"
   ]
  },
  {
   "cell_type": "code",
   "execution_count": 45,
   "metadata": {},
   "outputs": [
    {
     "data": {
      "text/plain": [
       "120"
      ]
     },
     "execution_count": 45,
     "metadata": {},
     "output_type": "execute_result"
    }
   ],
   "source": [
    "def fact(n):\n",
    "    if n==0:\n",
    "        return 1\n",
    "    return n*fact(n-1)\n",
    "fact(5)"
   ]
  },
  {
   "cell_type": "code",
   "execution_count": 47,
   "metadata": {},
   "outputs": [
    {
     "name": "stdout",
     "output_type": "stream",
     "text": [
      "[0, 1, 1, 2, 3, 5, 8, 13, 21, 34, 55, 89]\n"
     ]
    },
    {
     "data": {
      "text/plain": [
       "str"
      ]
     },
     "execution_count": 47,
     "metadata": {},
     "output_type": "execute_result"
    }
   ],
   "source": [
    "fib = [0,1]\n",
    "for i in range(10):\n",
    "    fib.append(fib[-2]+fib[-1])\n",
    "print(fib)\n",
    "exit()\n",
    "\n"
   ]
  },
  {
   "cell_type": "code",
   "execution_count": 48,
   "metadata": {},
   "outputs": [
    {
     "data": {
      "text/plain": [
       "True"
      ]
     },
     "execution_count": 48,
     "metadata": {},
     "output_type": "execute_result"
    }
   ],
   "source": [
    "#  palindrome or not program\n",
    "def is_palindrome(str1):\n",
    "    rev = reversed(str1.lower())\n",
    "    for i, j in zip(str1, rev):\n",
    "        if j != i:\n",
    "            return False\n",
    "    return True\n",
    "is_palindrome(\"--\\\\--\") "
   ]
  },
  {
   "cell_type": "code",
   "execution_count": 56,
   "metadata": {},
   "outputs": [
    {
     "name": "stdout",
     "output_type": "stream",
     "text": [
      "153\n",
      "370\n",
      "371\n",
      "407\n"
     ]
    }
   ],
   "source": [
    "# find armstrong number between 1 to 10\n",
    "\n",
    "for i in range(99,1000):\n",
    "    temp= i\n",
    "    i = str(i)\n",
    "    total  =0\n",
    "    for j in i:\n",
    "        total +=int(j)**(len(i))\n",
    "    if temp==total:\n",
    "        print(temp)\n",
    "    "
   ]
  },
  {
   "cell_type": "code",
   "execution_count": 52,
   "metadata": {},
   "outputs": [
    {
     "name": "stdout",
     "output_type": "stream",
     "text": [
      "2 x 0 = 0\n",
      "2 x 1 = 2\n",
      "2 x 2 = 4\n",
      "2 x 3 = 6\n",
      "2 x 4 = 8\n",
      "2 x 5 = 10\n",
      "2 x 6 = 12\n",
      "2 x 7 = 14\n",
      "2 x 8 = 16\n",
      "2 x 9 = 18\n",
      "2 x 10 = 20\n"
     ]
    }
   ],
   "source": [
    "for i in range(11):\n",
    "    num = 2\n",
    "    print(f\"{num} x {i} = {num*i}\")"
   ]
  },
  {
   "cell_type": "code",
   "execution_count": 75,
   "metadata": {},
   "outputs": [
    {
     "name": "stdout",
     "output_type": "stream",
     "text": [
      "5     4   3\n",
      "10     8   6\n",
      "13     12   5\n",
      "15     12   9\n",
      "17     15   8\n",
      "20     16   12\n",
      "25     20   15\n",
      "25     24   7\n",
      "26     24   10\n",
      "29     21   20\n",
      "30     24   18\n"
     ]
    }
   ],
   "source": [
    "for i in range(31):\n",
    "    for j in range(i):\n",
    "        for k in range(j):\n",
    "            if k**2+j**2==i**2:\n",
    "                print(i,\" \",\" \",j,\" \",k)\n",
    "            "
   ]
  },
  {
   "cell_type": "code",
   "execution_count": 80,
   "metadata": {},
   "outputs": [
    {
     "name": "stdout",
     "output_type": "stream",
     "text": [
      "1 12\n",
      "9 10\n"
     ]
    }
   ],
   "source": [
    "\n",
    "val = int(input(\"Enter the number :\"))\n",
    "for i in range(range())\n",
    "limit = 100\n",
    "count =0\n",
    "for i in range(10000):\n",
    "    if i==limit:\n",
    "        break\n",
    "    for j in range(10000):\n",
    "        if i**3+j**3==val:\n",
    "            count+=1\n",
    "            print(i,j)\n",
    "            limit=j\n",
    "\n"
   ]
  },
  {
   "cell_type": "code",
   "execution_count": 98,
   "metadata": {},
   "outputs": [
    {
     "name": "stdout",
     "output_type": "stream",
     "text": [
      "[1, 3, [2, 4, 6, 8], 7, 9]\n",
      "[1, 3, 2, 4, 6, 8, 7, 9]\n",
      "[1, 2, 3, 4, 6, 7, 8, 9]\n"
     ]
    }
   ],
   "source": [
    "ls = [i for i in range(1,11,2)]\n",
    "ls[2] = [i for i in range(2,10,2)]\n",
    "print(ls)\n",
    "# res =[]\n",
    "# for i in range(len(ls)):\n",
    "#     if type(ls[i]) is list:\n",
    "#         res.extend(ls[i])\n",
    "#     else:\n",
    "#         res.append(ls[i])\n",
    "# ls=res\n",
    "ls = ls[:2]+ls[2]+ls[3:]\n",
    "print(ls)\n",
    "ls.sort()\n",
    "print(ls)\n"
   ]
  },
  {
   "cell_type": "code",
   "execution_count": 105,
   "metadata": {},
   "outputs": [
    {
     "name": "stdout",
     "output_type": "stream",
     "text": [
      "[61, 88, 84, 23, 46, 51, 33, 19, 28, 8, 44, 96, 75, 100, 85, 73, 41, 72, 34, 87]\n",
      "value is in : 16  position\n"
     ]
    }
   ],
   "source": [
    "import random\n",
    "    \n",
    "ls = [random.randint(0,100) for i in range(20)]\n",
    "print(ls)\n",
    "try:   \n",
    "    print(\"value is in :\",ls.index(int(input(\"Enter the number\"))),\" position\")\n",
    "except Exception as e:\n",
    "    print(e)\n",
    "    "
   ]
  },
  {
   "cell_type": "code",
   "execution_count": 113,
   "metadata": {},
   "outputs": [
    {
     "name": "stdout",
     "output_type": "stream",
     "text": [
      "[2, 2, 3, 4, 5, 6, 6, 7, 7]\n",
      "[2, 3, 4, 5, 6, 7]\n"
     ]
    }
   ],
   "source": [
    "# ls = [random.randint(0,100) for i in range(20)]\n",
    "ls = [2,2,3,4,5,6,6,7,7]\n",
    "print(ls)\n",
    "for i in range(len(ls)):\n",
    "    for j in ls[i+1:]:\n",
    "        if ls[i]==j:\n",
    "            ls = ls[:i]+ls[i+1:]\n",
    "print(ls)"
   ]
  },
  {
   "cell_type": "code",
   "execution_count": 114,
   "metadata": {},
   "outputs": [
    {
     "name": "stdout",
     "output_type": "stream",
     "text": [
      "[-2, 6, -9, -2, 6, -4, 1, 4, -1, 5, -9, 10, 9, 9, 9, -2, 10, 2, -6, -3]\n",
      "[6, 6, 1, 4, 5, 10, 9, 9, 9, 10, 2]\n",
      "[-2, -9, -2, -4, -1, -9, -2, -6, -3]\n"
     ]
    }
   ],
   "source": [
    "ls = [random.randint(-10,10) for i in range(20)]\n",
    "print(ls)\n",
    "print([i for i in ls if i>0])\n",
    "print([i for i in ls if i<0])"
   ]
  },
  {
   "cell_type": "code",
   "execution_count": 117,
   "metadata": {},
   "outputs": [
    {
     "name": "stdout",
     "output_type": "stream",
     "text": [
      "[7, -4, 10, -2, -5, -8, 3, 4, 7, -7, 10, -9, 9, 5, 9, 7, -8, 1, -5, 1]\n"
     ]
    },
    {
     "data": {
      "text/plain": [
       "8"
      ]
     },
     "execution_count": 117,
     "metadata": {},
     "output_type": "execute_result"
    }
   ],
   "source": [
    "    \n",
    "ls = [random.randint(-10,10) for i in range(20)]\n",
    "print(ls)\n",
    "ls.insert(0,0)\n",
    "ls.sort()\n",
    "ls.index(0)\n"
   ]
  },
  {
   "cell_type": "code",
   "execution_count": 119,
   "metadata": {},
   "outputs": [
    {
     "data": {
      "text/plain": [
       "[('a', 1, 10),\n",
       " ('d', 2, 30),\n",
       " ('f', 3, 29),\n",
       " ('g', 4, 50),\n",
       " ('h', 5, 28),\n",
       " ('j', 6, 59),\n",
       " ('r', 7, 38)]"
      ]
     },
     "execution_count": 119,
     "metadata": {},
     "output_type": "execute_result"
    }
   ],
   "source": [
    "lsName = ['a','d','f','g','h','j','r']\n",
    "lsRol = [1,2,3,4,5,6,7]\n",
    "lsMrk = [10,30,29,50,28,59,38]\n",
    "res = []\n",
    "for i in range(7):\n",
    "    res+=[(lsName[i],lsRol[i],lsMrk[i])]\n",
    "res"
   ]
  },
  {
   "cell_type": "code",
   "execution_count": 151,
   "metadata": {},
   "outputs": [
    {
     "name": "stdout",
     "output_type": "stream",
     "text": [
      "{'aubr', 'apmv', 'auwa', 'anfh'}\n",
      "{'bvus', 'bgxt', 'bbhx', 'bhup', 'btwx', 'bfgb'}\n"
     ]
    }
   ],
   "source": [
    "names = {chr(random.randint(97,98))+chr(random.randint(97,122))+chr(random.randint(97,122))+chr(random.randint(97,122)) for i in range(10)}\n",
    "print({i for i in names if i.startswith('a')})\n",
    "print({i for i in names if i.startswith('b')})"
   ]
  },
  {
   "cell_type": "code",
   "execution_count": 135,
   "metadata": {},
   "outputs": [
    {
     "data": {
      "text/plain": [
       "{2}"
      ]
     },
     "execution_count": 135,
     "metadata": {},
     "output_type": "execute_result"
    }
   ],
   "source": []
  }
 ],
 "metadata": {
  "kernelspec": {
   "display_name": "Python 3",
   "language": "python",
   "name": "python3"
  },
  "language_info": {
   "codemirror_mode": {
    "name": "ipython",
    "version": 3
   },
   "file_extension": ".py",
   "mimetype": "text/x-python",
   "name": "python",
   "nbconvert_exporter": "python",
   "pygments_lexer": "ipython3",
   "version": "3.10.10"
  },
  "orig_nbformat": 4
 },
 "nbformat": 4,
 "nbformat_minor": 2
}
