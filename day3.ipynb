{
 "cells": [
  {
   "cell_type": "code",
   "execution_count": 1,
   "metadata": {},
   "outputs": [],
   "source": [
    "import random"
   ]
  },
  {
   "cell_type": "code",
   "execution_count": 12,
   "metadata": {},
   "outputs": [
    {
     "name": "stdout",
     "output_type": "stream",
     "text": [
      "4\n"
     ]
    },
    {
     "data": {
      "text/plain": [
       "{17, 18, 22, 23}"
      ]
     },
     "execution_count": 12,
     "metadata": {},
     "output_type": "execute_result"
    }
   ],
   "source": [
    "ls = {random.randint(15,45) for i in range(10)}\n",
    "temp = set()\n",
    "count =0\n",
    "for i in ls:\n",
    "    if i < 30: count+=1\n",
    "    elif i >35:\n",
    "        temp.add(i)\n",
    "for i in temp:\n",
    "    ls.remove(i)\n",
    "print(count)\n",
    "ls"
   ]
  },
  {
   "cell_type": "markdown",
   "metadata": {},
   "source": [
    "  |   add\n",
    "  &   same in both set\n",
    "  ^   "
   ]
  },
  {
   "cell_type": "code",
   "execution_count": 20,
   "metadata": {},
   "outputs": [
    {
     "data": {
      "text/plain": [
       "{6, 7}"
      ]
     },
     "execution_count": 20,
     "metadata": {},
     "output_type": "execute_result"
    }
   ],
   "source": [
    "{1,2,3,4,5,7} ^ {1,2,3,4,5,6}"
   ]
  },
  {
   "cell_type": "code",
   "execution_count": 14,
   "metadata": {},
   "outputs": [
    {
     "data": {
      "text/plain": [
       "{1, 2, 3, 4, 5, 6}"
      ]
     },
     "execution_count": 14,
     "metadata": {},
     "output_type": "execute_result"
    }
   ],
   "source": [
    "{1,2,3,4,5} | {1,2,3,4,5,6}"
   ]
  },
  {
   "cell_type": "code",
   "execution_count": 15,
   "metadata": {},
   "outputs": [
    {
     "data": {
      "text/plain": [
       "{1, 2, 3, 4, 5}"
      ]
     },
     "execution_count": 15,
     "metadata": {},
     "output_type": "execute_result"
    }
   ],
   "source": [
    "{1,2,3,4,5} & {1,2,3,4,5,6}"
   ]
  },
  {
   "cell_type": "code",
   "execution_count": 17,
   "metadata": {},
   "outputs": [
    {
     "data": {
      "text/plain": [
       "{7}"
      ]
     },
     "execution_count": 17,
     "metadata": {},
     "output_type": "execute_result"
    }
   ],
   "source": [
    "{1,2,3,4,5,7} - {1,2,3,4,5,6}"
   ]
  },
  {
   "cell_type": "markdown",
   "metadata": {},
   "source": [
    "DICTIONARY"
   ]
  },
  {
   "cell_type": "code",
   "execution_count": 23,
   "metadata": {},
   "outputs": [
    {
     "data": {
      "text/plain": [
       "{'h': 1, 'e': 1, 'l': 2, 'o': 1}"
      ]
     },
     "execution_count": 23,
     "metadata": {},
     "output_type": "execute_result"
    }
   ],
   "source": [
    "# < is used to find subset\n",
    "dct = dict()\n",
    "for i in input(\"Enter the string : \"):dct[i] = dct[i]+1 if i in dct else 1       \n",
    "dct"
   ]
  },
  {
   "cell_type": "code",
   "execution_count": 12,
   "metadata": {},
   "outputs": [
    {
     "name": "stdout",
     "output_type": "stream",
     "text": [
      "{'Alice': [62, 43, 88], 'Bob': [58, 92, 47], 'Charlie': [76, 44, 92]}\n",
      "\n",
      "{'Alice': [193, 64.33333333333333], 'Bob': [197, 65.66666666666667], 'Charlie': [212, 70.66666666666667]}\n",
      "\n",
      "Topper : Charlie | Marks :212  | Average : 70.66666666666667\n"
     ]
    }
   ],
   "source": [
    "Student = { \"Alice\":[62,43,88], \"Bob\":[58,92,47], \"Charlie\":[76,44,92]}\n",
    "print(Student,end=\"\\n\\n\")\n",
    "max = [0]\n",
    "for i in Student:\n",
    "    totl = sum(Student[i])\n",
    "    if max[0]<totl:max = [totl,i]\n",
    "    Student[i] = [totl,totl/len(Student[i])]\n",
    "    \n",
    "print(Student)\n",
    "print(f\"\\nTopper : {max[1]} | Marks :{max[0]}  | Average : {max[0]/3}\")\n"
   ]
  },
  {
   "cell_type": "code",
   "execution_count": 33,
   "metadata": {},
   "outputs": [
    {
     "name": "stdout",
     "output_type": "stream",
     "text": [
      "{'A': 10, 'B': 4, 'C': 25, 'D': 50}\n",
      "Only 10 item available\n",
      "Purchased : {'A': 10, 'B': 0, 'C': 0, 'D': 0}\n",
      "Total price : 100\n"
     ]
    }
   ],
   "source": [
    "items = {\"A\":10,\"B\":4,\"C\":25,\"D\":50}\n",
    "avail = {\"A\":10,\"B\":10,\"C\":10,\"D\":10}\n",
    "print(items)\n",
    "purch = {\"A\":0,\"B\":0,\"C\":0,\"D\":0}\n",
    "for i in range(int(input(\"Enter the number of items :\"))):\n",
    "    item = input(\"Enter the item : \")\n",
    "    if item in items.keys():\n",
    "        qnt = int(input(\"Enter the quantity : \"))\n",
    "        if avail[item]<qnt:\n",
    "            print(f\"Only {avail[item]} item available\")\n",
    "            purch[item]+=avail[item]\n",
    "        else:\n",
    "            purch[item]+=qnt\n",
    "            \n",
    "    else:\n",
    "        print(\"Item not available\")\n",
    "print(f\"Purchased : {purch}\")\n",
    "total = 0\n",
    "for i,j in zip(items.values(),purch.values()):\n",
    "    total+=i*j\n",
    "print(f\"Total price : {total}\")"
   ]
  },
  {
   "cell_type": "code",
   "execution_count": 35,
   "metadata": {},
   "outputs": [
    {
     "data": {
      "text/plain": [
       "{'upper': 2, 'lower': 3}"
      ]
     },
     "execution_count": 35,
     "metadata": {},
     "output_type": "execute_result"
    }
   ],
   "source": [
    "def count_upper_lower(strg):\n",
    "    dictn = {\"upper\":0,\"lower\":0}\n",
    "    for i in strg:\n",
    "        if i.isupper():\n",
    "            dictn[\"upper\"]+=1\n",
    "        else:\n",
    "            dictn[\"lower\"]+=1\n",
    "    return dictn\n",
    "count_upper_lower(\"HellO\")\n"
   ]
  },
  {
   "cell_type": "code",
   "execution_count": 50,
   "metadata": {},
   "outputs": [
    {
     "data": {
      "text/plain": [
       "{'a': 4, 'b': 10, 'j': 50, 'z': 25}"
      ]
     },
     "execution_count": 50,
     "metadata": {},
     "output_type": "execute_result"
    }
   ],
   "source": [
    "def sort_dict(items:dict):\n",
    "    temp = {}\n",
    "    for i in sorted(items.keys()):temp[i.lower()] =items[i]\n",
    "    return temp\n",
    "\n",
    "items = {\"B\":10,\"A\":4,\"Z\":25,\"J\":50}\n",
    "sort_dict(items)"
   ]
  },
  {
   "cell_type": "code",
   "execution_count": 55,
   "metadata": {},
   "outputs": [
    {
     "name": "stdout",
     "output_type": "stream",
     "text": [
      "*******\n",
      "*****\n",
      "*****\n",
      "\n",
      "**********\n",
      "\n",
      "***\n",
      "*\n",
      "*******\n",
      "********\n"
     ]
    }
   ],
   "source": [
    "import random\n",
    "s = [random.randint(0,10) for i in range(10)]\n",
    "for i in s:\n",
    "    print(\"*\"*i)"
   ]
  },
  {
   "cell_type": "code",
   "execution_count": 53,
   "metadata": {},
   "outputs": [
    {
     "data": {
      "text/plain": [
       "False"
      ]
     },
     "execution_count": 53,
     "metadata": {},
     "output_type": "execute_result"
    }
   ],
   "source": [
    "\"E\" in {\"B\":10,\"A\":4,\"Z\":25,\"J\":50}"
   ]
  },
  {
   "cell_type": "code",
   "execution_count": 59,
   "metadata": {},
   "outputs": [
    {
     "name": "stdout",
     "output_type": "stream",
     "text": [
      "It reached 100\n"
     ]
    }
   ],
   "source": [
    "sum = 0\n",
    "val = []\n",
    "for i in range(10):\n",
    "    if sum>=100:\n",
    "        print(\"It reached 100\")\n",
    "        break\n",
    "    inputVal = int(input(\"Enter the value :\"))\n",
    "    val+=[inputVal]\n",
    "    sum+=inputVal\n",
    "    "
   ]
  },
  {
   "cell_type": "code",
   "execution_count": 66,
   "metadata": {},
   "outputs": [
    {
     "ename": "KeyboardInterrupt",
     "evalue": "",
     "output_type": "error",
     "traceback": [
      "\u001b[1;31m---------------------------------------------------------------------------\u001b[0m",
      "\u001b[1;31mKeyboardInterrupt\u001b[0m                         Traceback (most recent call last)",
      "Cell \u001b[1;32mIn[66], line 13\u001b[0m\n\u001b[0;32m     10\u001b[0m \u001b[39mfor\u001b[39;00m switch \u001b[39min\u001b[39;00m   \u001b[39mrange\u001b[39m(\u001b[39m1000000\u001b[39m):\n\u001b[0;32m     11\u001b[0m     i \u001b[39m=\u001b[39m random\u001b[39m.\u001b[39mrandint(\u001b[39m0\u001b[39m,\u001b[39m7\u001b[39m) \n\u001b[1;32m---> 13\u001b[0m     \u001b[39mif\u001b[39;00m \u001b[39msum\u001b[39;49m(ls1)\u001b[39m==\u001b[39;49m\u001b[39m100\u001b[39;49m:\n\u001b[0;32m     14\u001b[0m         \u001b[39mprint\u001b[39m(ls1)\n\u001b[0;32m     15\u001b[0m         \u001b[39mprint\u001b[39m(\u001b[39m\"\u001b[39m\u001b[39mLs1 is winner\u001b[39m\u001b[39m\"\u001b[39m)\n",
      "\u001b[1;31mKeyboardInterrupt\u001b[0m: "
     ]
    }
   ],
   "source": [
    "import random\n",
    "ls1 =[]\n",
    "ls2 = []\n",
    "\n",
    "def show(s):  \n",
    "    for i in s:\n",
    "        print(i,\"*\"*i)\n",
    "\n",
    "# for i in [random.randint(0,7) for i in range(100)]:\n",
    "for switch in   range(1000000):\n",
    "    i = random.randint(0,7) \n",
    "    \n",
    "    if sum(ls1)==100:\n",
    "        print(ls1)\n",
    "        print(\"Ls1 is winner\")\n",
    "        show(ls1) \n",
    "        break\n",
    "    if sum(ls2)==100:\n",
    "        print(ls2)\n",
    "        print(\"Ls2 is winner\")\n",
    "        show(ls2)\n",
    "        break\n",
    "    if sum(ls1)+i<100:\n",
    "        if switch%2==0 :\n",
    "            ls1.append(i)\n",
    "            switch = 0\n",
    "    if sum(ls1)+i<100:\n",
    "        if switch%2==1:\n",
    "            ls2.append(i)\n",
    "            switch = 1\n"
   ]
  },
  {
   "cell_type": "code",
   "execution_count": 78,
   "metadata": {},
   "outputs": [
    {
     "name": "stdout",
     "output_type": "stream",
     "text": [
      "340\n"
     ]
    },
    {
     "data": {
      "text/plain": [
       "960799"
      ]
     },
     "execution_count": 78,
     "metadata": {},
     "output_type": "execute_result"
    }
   ],
   "source": [
    "def compute(n):\n",
    "    sum = 0\n",
    "    for i in range(1,n+1):sum+=n**i\n",
    "    return sum\n",
    "    \n",
    "print(compute(4))\n",
    "compute(7)"
   ]
  },
  {
   "cell_type": "code",
   "execution_count": 82,
   "metadata": {},
   "outputs": [
    {
     "name": "stdout",
     "output_type": "stream",
     "text": [
      "0\n",
      "1\n",
      "2\n",
      "\n",
      "4\n",
      "5\n",
      "6\n",
      "7\n",
      "8\n",
      "9\n",
      "10\n",
      "11\n",
      "12\n",
      "\n",
      "14\n",
      "15\n",
      "16\n",
      "17\n",
      "18\n",
      "19\n",
      "20\n",
      "21\n",
      "22\n",
      "\n",
      "24\n",
      "25\n",
      "26\n",
      "27\n",
      "28\n",
      "29\n",
      "\n",
      "\n",
      "\n",
      "\n",
      "\n",
      "\n",
      "\n",
      "\n",
      "\n",
      "\n",
      "40\n",
      "41\n",
      "42\n",
      "\n",
      "44\n",
      "45\n",
      "46\n",
      "47\n",
      "48\n",
      "49\n",
      "50\n",
      "51\n",
      "52\n",
      "\n",
      "54\n",
      "55\n",
      "56\n",
      "57\n",
      "58\n",
      "59\n",
      "60\n",
      "61\n",
      "62\n",
      "\n",
      "64\n",
      "65\n",
      "66\n",
      "67\n",
      "68\n",
      "69\n",
      "70\n",
      "71\n",
      "72\n",
      "\n",
      "74\n",
      "75\n",
      "76\n",
      "77\n",
      "78\n",
      "79\n",
      "80\n",
      "81\n",
      "82\n",
      "\n",
      "84\n",
      "85\n",
      "86\n",
      "87\n",
      "88\n",
      "89\n",
      "90\n",
      "91\n",
      "92\n",
      "\n",
      "94\n",
      "95\n",
      "96\n",
      "97\n",
      "98\n",
      "99\n",
      "100\n"
     ]
    }
   ],
   "source": [
    "for i in range(101):print(i) if '3' not in str(i) else print(\"\")\n",
    "        "
   ]
  },
  {
   "cell_type": "code",
   "execution_count": 93,
   "metadata": {},
   "outputs": [
    {
     "data": {
      "text/plain": [
       "array([[[-1850050192,         446, -1847612928]],\n",
       "\n",
       "       [[        446, -1847611200,         446]],\n",
       "\n",
       "       [[-1847610176,         446,     7733248]]])"
      ]
     },
     "execution_count": 93,
     "metadata": {},
     "output_type": "execute_result"
    }
   ],
   "source": [
    "import numpy as np\n",
    "def createArray(dim,val):\n",
    "    return np.ndarray(dim,int)\n",
    "arr = createArray([3,1,3],10)\n",
    "arr"
   ]
  },
  {
   "cell_type": "code",
   "execution_count": 97,
   "metadata": {},
   "outputs": [
    {
     "data": {
      "text/plain": [
       "1"
      ]
     },
     "execution_count": 97,
     "metadata": {},
     "output_type": "execute_result"
    }
   ],
   "source": [
    "def sumofnum(n):\n",
    "    return 0 if n==0 else n+sumofnum(n-1)\n",
    "sumofnum(1)"
   ]
  }
 ],
 "metadata": {
  "kernelspec": {
   "display_name": "Python 3",
   "language": "python",
   "name": "python3"
  },
  "language_info": {
   "codemirror_mode": {
    "name": "ipython",
    "version": 3
   },
   "file_extension": ".py",
   "mimetype": "text/x-python",
   "name": "python",
   "nbconvert_exporter": "python",
   "pygments_lexer": "ipython3",
   "version": "3.10.10"
  },
  "orig_nbformat": 4
 },
 "nbformat": 4,
 "nbformat_minor": 2
}
