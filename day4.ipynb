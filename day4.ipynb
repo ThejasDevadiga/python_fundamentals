{
 "cells": [
  {
   "cell_type": "code",
   "execution_count": 2,
   "metadata": {},
   "outputs": [
    {
     "name": "stdout",
     "output_type": "stream",
     "text": [
      "10\n"
     ]
    }
   ],
   "source": [
    "class A:\n",
    "    def __init__(self) -> None:\n",
    "        self.val = 10\n",
    "    def show(self):\n",
    "        print(self.val)\n",
    "\n",
    "class B(A):\n",
    "    def __init__(self):\n",
    "        super().__init__()\n",
    "      \n",
    "    def showval(self):\n",
    "        super().show()\n",
    "b = B()\n",
    "b.showval()"
   ]
  },
  {
   "cell_type": "code",
   "execution_count": 3,
   "metadata": {},
   "outputs": [
    {
     "name": "stdout",
     "output_type": "stream",
     "text": [
      "10.935\n"
     ]
    }
   ],
   "source": [
    "print(\"%.3f\"% 10.93544)\n"
   ]
  },
  {
   "cell_type": "code",
   "execution_count": 6,
   "metadata": {},
   "outputs": [],
   "source": [
    "import math\n",
    "r = 4\n",
    "def area_of_circle(r):\n",
    "    print(f\"Area of circle {math.pi*r*r}\")\n",
    "\n",
    "\n",
    "\n"
   ]
  },
  {
   "cell_type": "code",
   "execution_count": 1,
   "metadata": {},
   "outputs": [
    {
     "name": "stdout",
     "output_type": "stream",
     "text": [
      "Please enter only integer\n",
      "Please enter only integer\n",
      "Please enter only integer\n",
      "Please enter only integer\n",
      "Please enter only integer\n",
      "Please enter only integer\n",
      "3434\n"
     ]
    }
   ],
   "source": [
    "while 1:\n",
    "    try:\n",
    "        x = int(input(\"Enter :\"))\n",
    "        print(x)\n",
    "        break\n",
    "    except Exception as e:\n",
    "        print(\"Please enter only integer\")"
   ]
  },
  {
   "cell_type": "code",
   "execution_count": 8,
   "metadata": {},
   "outputs": [
    {
     "name": "stdout",
     "output_type": "stream",
     "text": [
      "Number should be positive only\n"
     ]
    }
   ],
   "source": [
    "def sqr_root(n):\n",
    "    try:\n",
    "        if n<0:\n",
    "            raise ValueError(\"Number should be positive only\")\n",
    "        return n**0.5\n",
    "    except Exception as e:\n",
    "        print(e)\n",
    "sqr_root(-100)"
   ]
  },
  {
   "cell_type": "code",
   "execution_count": 23,
   "metadata": {},
   "outputs": [
    {
     "data": {
      "text/plain": [
       "39.6"
      ]
     },
     "execution_count": 23,
     "metadata": {},
     "output_type": "execute_result"
    }
   ],
   "source": [
    "EXPECTED_TIME  = 40\n",
    "def cooking_time_remaining(elapsed_time):\n",
    "    return EXPECTED_TIME-elapsed_time\n",
    "\n",
    "cooking_time_remaining(0.4)"
   ]
  },
  {
   "cell_type": "code",
   "execution_count": 24,
   "metadata": {},
   "outputs": [
    {
     "data": {
      "text/plain": [
       "80"
      ]
     },
     "execution_count": 24,
     "metadata": {},
     "output_type": "execute_result"
    }
   ],
   "source": [
    "PREPARATION_TIME = 20\n",
    "def preparation_time_required(num_pieces):\n",
    "    return num_pieces//10*PREPARATION_TIME\n",
    "\n",
    "preparation_time_required(40)"
   ]
  },
  {
   "cell_type": "code",
   "execution_count": 34,
   "metadata": {},
   "outputs": [
    {
     "name": "stdout",
     "output_type": "stream",
     "text": [
      "0\n"
     ]
    }
   ],
   "source": [
    "\n",
    "def remaining_time_is(num_piece,elapsed_time):\n",
    "    return preparation_time_required(num_piece)-elapsed_time\n",
    "\n",
    "remaining_time_is(20,100)"
   ]
  },
  {
   "cell_type": "code",
   "execution_count": 58,
   "metadata": {},
   "outputs": [
    {
     "name": "stdout",
     "output_type": "stream",
     "text": [
      "128\n",
      "4096\n",
      "576460752303423488\n",
      "It should be between 1 <= x <= 64\n",
      "It should be between 1 <= x <= 64\n"
     ]
    },
    {
     "data": {
      "text/plain": [
       "18446744073709551615"
      ]
     },
     "execution_count": 58,
     "metadata": {},
     "output_type": "execute_result"
    }
   ],
   "source": [
    "def square_grain(num):\n",
    "    if not 1<=num<=64:\n",
    "        raise ValueError(\"It should be between 1 <= x <= 64\")\n",
    "    return 2**(num-1)\n",
    "\n",
    "\n",
    "\n",
    "\n",
    "for val in [8,13,60,0,65]:\n",
    "    try:  \n",
    "        print(square_grain(val))\n",
    "    except Exception as e:\n",
    "        print(e)\n",
    "def total():\n",
    "    sum = 0\n",
    "    for i in range(1,65):\n",
    "        sum +=square_grain(i)\n",
    "    return sum\n",
    "total()"
   ]
  },
  {
   "cell_type": "code",
   "execution_count": 72,
   "metadata": {},
   "outputs": [
    {
     "data": {
      "text/plain": [
       "True"
      ]
     },
     "execution_count": 72,
     "metadata": {},
     "output_type": "execute_result"
    }
   ],
   "source": [
    "def is_triangle(s1,s2,s3):\n",
    "    if not s1 and s2 and s3:\n",
    "        return False\n",
    "    if s1+s2>=s3 or s2+s3>=s1 or s1+s3>=s2:\n",
    "        return True\n",
    "    return False\n",
    "is_triangle(1,2,2)"
   ]
  },
  {
   "cell_type": "code",
   "execution_count": 73,
   "metadata": {},
   "outputs": [],
   "source": [
    "def is_equilateral(s1,s2,s3):\n",
    "    return True if is_triangle(s1,s2,s3) and ( s1 == s2 == s3) else False\n",
    "        \n",
    "def is_isoscale(s1,s2,s3):\n",
    "    return True if is_triangle(s1,s2,s3) and (s1 == s2 or s2 == s3 or s1 == s3) else  False\n",
    "\n",
    "def is_scalene(s1,s2,s3):\n",
    "    return True if is_triangle(s1,s2,s3) and (s1 != s2 != s3) else False\n",
    "\n",
    "def is_degenerate(s1,s2,s3):\n",
    "    return True if is_triangle(s1,s2,s3) and (s1 + s2 == s3 or s2 + s3 == s1 or s1 + s3 == s2) else False\n"
   ]
  },
  {
   "cell_type": "code",
   "execution_count": 86,
   "metadata": {},
   "outputs": [],
   "source": [
    "class str:\n",
    "        pass\n",
    "for i in enumerate(\"hello\"):\n",
    "    print(i)"
   ]
  },
  {
   "cell_type": "code",
   "execution_count": 15,
   "metadata": {},
   "outputs": [
    {
     "data": {
      "text/plain": [
       "True"
      ]
     },
     "execution_count": 15,
     "metadata": {},
     "output_type": "execute_result"
    }
   ],
   "source": [
    "def is_isogram(strg:str)-> bool:\n",
    "    strg = strg.lower()\n",
    "    for i in range(len(strg)):\n",
    "        if not strg[i].isalpha():\n",
    "            continue\n",
    "        if strg[i] in strg[i+1:]:\n",
    "            return False\n",
    "    return True\n",
    "is_isogram(\" | | \")\n"
   ]
  },
  {
   "cell_type": "code",
   "execution_count": 30,
   "metadata": {},
   "outputs": [
    {
     "data": {
      "text/plain": [
       "65"
      ]
     },
     "execution_count": 30,
     "metadata": {},
     "output_type": "execute_result"
    }
   ],
   "source": [
    "ord(\"A\")"
   ]
  },
  {
   "cell_type": "code",
   "execution_count": 4,
   "metadata": {},
   "outputs": [
    {
     "name": "stdout",
     "output_type": "stream",
     "text": [
      "(90,)\n"
     ]
    }
   ],
   "source": [
    "import struct \n",
    "print(struct.unpack(\"B\",b\"Z\"))"
   ]
  },
  {
   "cell_type": "code",
   "execution_count": 10,
   "metadata": {},
   "outputs": [
    {
     "name": "stdout",
     "output_type": "stream",
     "text": [
      "E\n"
     ]
    }
   ],
   "source": [
    "import struct\n",
    "print(chr(struct.unpack(\"B\",b\"A\")[0]+4))\n"
   ]
  },
  {
   "cell_type": "code",
   "execution_count": 98,
   "metadata": {},
   "outputs": [],
   "source": [
    "def substitute(ascii_val,increment):\n",
    "    if 97<=ascii_val <=122:\n",
    "        if ascii_val>=122-increment:\n",
    "            ascii_val = 96+( increment-(122-ascii_val))\n",
    "        else:\n",
    "            ascii_val += increment\n",
    "    elif 65<=ascii_val <=90:\n",
    "        if ascii_val>=90-increment:\n",
    "            ascii_val =64+( increment-(90-ascii_val))\n",
    "        else:\n",
    "            ascii_val += increment\n",
    "    return ascii_val\n",
    "\n",
    "\n",
    "\n"
   ]
  },
  {
   "cell_type": "code",
   "execution_count": 105,
   "metadata": {},
   "outputs": [
    {
     "data": {
      "text/plain": [
       "'b'"
      ]
     },
     "execution_count": 105,
     "metadata": {},
     "output_type": "execute_result"
    }
   ],
   "source": [
    "def custom_ord(char):\n",
    "    return bytearray(char,\"utf-8\")[0]\n",
    "def encrypt(key,text):\n",
    "    encrypted_text = \"\"\n",
    "    try:\n",
    "        if not len(key)== len(text):\n",
    "            raise ValueError(\"Both string should have same string\")\n",
    "        for i, j in zip(key,text):\n",
    "         \n",
    "            if 97<=ord(i) <=122:\n",
    "                increment = ord(i)-97\n",
    "            elif 65<=ord(i)<=90:\n",
    "                increment = ord(i)-65\n",
    "            else:\n",
    "                increment = 2\n",
    "            encrypted_text +=chr(substitute(ord(j),increment))\n",
    "        return encrypted_text\n",
    "    except Exception as e:\n",
    "        print(e)\n",
    "encrypt(\"r\",\"k\")"
   ]
  },
  {
   "cell_type": "code",
   "execution_count": 110,
   "metadata": {},
   "outputs": [
    {
     "data": {
      "text/plain": [
       "'b'"
      ]
     },
     "execution_count": 110,
     "metadata": {},
     "output_type": "execute_result"
    }
   ],
   "source": [
    "chr(substitute(ord('k'),ord('r')-97))"
   ]
  },
  {
   "cell_type": "code",
   "execution_count": 111,
   "metadata": {},
   "outputs": [
    {
     "data": {
      "text/plain": [
       "False"
      ]
     },
     "execution_count": 111,
     "metadata": {},
     "output_type": "execute_result"
    }
   ],
   "source": [
    "\n",
    "def is_prime(n):\n",
    "    if n < 2:\n",
    "        return False\n",
    "    for i in range(2, n):\n",
    "        if n % i == 0:\n",
    "            return False\n",
    "    return True\n",
    "is_prime(10)"
   ]
  },
  {
   "cell_type": "code",
   "execution_count": null,
   "metadata": {},
   "outputs": [],
   "source": [
    "# print prime number between 0-100\n",
    "#\n",
    "# Path: day5.ipynb\n"
   ]
  }
 ],
 "metadata": {
  "kernelspec": {
   "display_name": "Python 3",
   "language": "python",
   "name": "python3"
  },
  "language_info": {
   "codemirror_mode": {
    "name": "ipython",
    "version": 3
   },
   "file_extension": ".py",
   "mimetype": "text/x-python",
   "name": "python",
   "nbconvert_exporter": "python",
   "pygments_lexer": "ipython3",
   "version": "3.10.10"
  },
  "orig_nbformat": 4
 },
 "nbformat": 4,
 "nbformat_minor": 2
}
