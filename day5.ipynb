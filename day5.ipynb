{
 "cells": [
  {
   "cell_type": "code",
   "execution_count": 29,
   "metadata": {},
   "outputs": [],
   "source": [
    "def substitute(ascii_val,increment):\n",
    "    \n",
    "    if 97<=ascii_val <=122:\n",
    "        if ascii_val>=122-increment:\n",
    "            ascii_val = 97+( increment-(122-ascii_val))\n",
    "        else:\n",
    "            ascii_val += increment\n",
    "    elif 65<=ascii_val <=90:\n",
    "        if ascii_val>=90-increment:\n",
    "            ascii_val =65+( increment-(90-ascii_val))\n",
    "        else:\n",
    "            ascii_val += increment\n",
    "    return ascii_val\n"
   ]
  },
  {
   "cell_type": "code",
   "execution_count": 30,
   "metadata": {},
   "outputs": [
    {
     "data": {
      "text/plain": [
       "'qbsl'"
      ]
     },
     "execution_count": 30,
     "metadata": {},
     "output_type": "execute_result"
    }
   ],
   "source": [
    "def custom_ord(char):\n",
    "    \"\"\"\n",
    "    This function return the ASCII value of the charecter\n",
    "\n",
    "    Args:\n",
    "        char (charecter): It should be an Integer\n",
    "\n",
    "    Returns:\n",
    "        int (Integer): It returns an Integer value \n",
    "    \"\"\"\n",
    "    return bytearray(char,\"utf-8\")[0]\n",
    "def encrypt(key,text):\n",
    "    \"\"\"\n",
    "    This function is used to encrypt the text by key\n",
    "\n",
    "    Args:\n",
    "        key (string): Its the key used for the encryption \n",
    "        text (string): This string is encrypted \n",
    "\n",
    "    Raises:\n",
    "        ValueError: Error if the length of the key and the value are different\n",
    "\n",
    "    Returns:\n",
    "        string: Output of this is encrypted text\n",
    "    \"\"\"\n",
    "    encrypted_text = \"\"\n",
    "    try:\n",
    "        if not len(key)== len(text):\n",
    "            raise ValueError(\"Both string should have same string\")\n",
    "        for i, j in zip(key,text):\n",
    "         \n",
    "            if 97<=ord(i) <=122:\n",
    "                increment = ord(i)-97\n",
    "            elif 65<=ord(i)<=90:\n",
    "                increment = ord(i)-65\n",
    "            else:\n",
    "                increment = 1\n",
    "            encrypted_text +=chr(substitute(ord(j),increment))\n",
    "        return encrypted_text\n",
    "    except Exception as e:\n",
    "        print(e)\n",
    "\n",
    "\n",
    "encrypt(\"bbbb\",\"park\")"
   ]
  },
  {
   "cell_type": "code",
   "execution_count": 49,
   "metadata": {},
   "outputs": [
    {
     "name": "stdout",
     "output_type": "stream",
     "text": [
      "Both string should have same string\n"
     ]
    }
   ],
   "source": [
    "\n",
    "    \n",
    "    \n",
    "def decrypt(text:str,key:str)-> str :\n",
    "    encrypted_text = \"\"\n",
    "    try:\n",
    "        if not len(key)== len(text):\n",
    "            raise ValueError(\"Both string should have same string\")\n",
    "        for i, j in zip(key,text):\n",
    "         \n",
    "            if 97<=ord(i) <=122:\n",
    "                increment = ord(i)-97\n",
    "            elif 65<=ord(i)<=90:\n",
    "                increment = ord(i)-65\n",
    "            else:\n",
    "                increment = 1\n",
    "            encrypted_text +=chr(substitute(ord(j),-increment))\n",
    "        return encrypted_text\n",
    "    except Exception as e:\n",
    "        print(e)\n",
    "text = \"jurrasicpark\"\n",
    "key = \"dbghdffseh\"\n",
    "enc_text = encrypt(key,text)\n",
    "if  enc_text:\n",
    "    print(\"Encrypted text is \",enc_text)\n",
    "    dec_text = decrypt(enc_text,key) \n",
    "    print(\"Decrypted text is :\",dec_text)\n",
    "    "
   ]
  },
  {
   "cell_type": "code",
   "execution_count": 149,
   "metadata": {},
   "outputs": [
    {
     "name": "stdout",
     "output_type": "stream",
     "text": [
      "zyyz\n"
     ]
    },
    {
     "data": {
      "text/plain": [
       "'axxa'"
      ]
     },
     "execution_count": 149,
     "metadata": {},
     "output_type": "execute_result"
    }
   ],
   "source": [
    "LETTERS = \"abcdefghijklmnopqrstuvwxyz\"\n",
    "def substitute(char,n):\n",
    "    if char in LETTERS:\n",
    "        return LETTERS[(LETTERS.index(char)+n)%26]\n",
    "    \n",
    "def encryption(text,key):\n",
    "    key = \"\".join([key for i in range(int(len(text)/len(key)))])\n",
    "    key = key+key[0:len(text)-len(key) ] \n",
    "    encrypted_text = \"\"\n",
    "    for pos , cp in enumerate(text):\n",
    "        key_cp = key[pos]\n",
    "        n = LETTERS.index(key_cp)\n",
    "        en_cp = substitute(cp,n+1)\n",
    "        encrypted_text +=en_cp\n",
    "    return encrypted_text\n",
    "\n",
    "def decryption(text,key):\n",
    "    key = \"\".join([key for i in range(int(len(text)/len(key)))])\n",
    "    key = key+key[0:len(text)-len(key) ] \n",
    "    decrypted_text = \"\"\n",
    "    for pos , cp in enumerate(text):\n",
    "        key_cp = key[pos]\n",
    "        n = LETTERS.index(key_cp)\n",
    "        en_cp = substitute(cp,-n-1)\n",
    "        decrypted_text +=en_cp\n",
    "        \n",
    "    return decrypted_text\n",
    "text = \"axxa\"\n",
    "key= \"yaay\"\n",
    "print(encryption(text,key))\n",
    "text = encryption(text,key)\n",
    "decryption(text,key)"
   ]
  },
  {
   "cell_type": "code",
   "execution_count": 172,
   "metadata": {},
   "outputs": [
    {
     "data": {
      "text/plain": [
       "[2, 3, 5, 7]"
      ]
     },
     "execution_count": 172,
     "metadata": {},
     "output_type": "execute_result"
    }
   ],
   "source": [
    "def sieve_prime(n):\n",
    "    nums = [True] * (n + 1)\n",
    "    nums[0] = nums[1] = False\n",
    "    for i in range(2, int(n ** 0.5) + 1):\n",
    "        if nums[i]:\n",
    "            for j in range(i ** 2, n + 1, i):\n",
    "                nums[j] = False\n",
    "    return [i for i in range(n + 1) if nums[i]]\n",
    "sieve_prime(10)"
   ]
  },
  {
   "cell_type": "code",
   "execution_count": 176,
   "metadata": {},
   "outputs": [
    {
     "data": {
      "text/plain": [
       "[0, 1, 2, 3, 4, 0, 1, 2, 3, 4]"
      ]
     },
     "execution_count": 176,
     "metadata": {},
     "output_type": "execute_result"
    }
   ],
   "source": [
    "[i for i in range(5)]+[i for i in range(5)]"
   ]
  },
  {
   "cell_type": "code",
   "execution_count": null,
   "metadata": {},
   "outputs": [],
   "source": []
  }
 ],
 "metadata": {
  "kernelspec": {
   "display_name": "Python 3",
   "language": "python",
   "name": "python3"
  },
  "language_info": {
   "codemirror_mode": {
    "name": "ipython",
    "version": 3
   },
   "file_extension": ".py",
   "mimetype": "text/x-python",
   "name": "python",
   "nbconvert_exporter": "python",
   "pygments_lexer": "ipython3",
   "version": "3.10.10"
  },
  "orig_nbformat": 4
 },
 "nbformat": 4,
 "nbformat_minor": 2
}
