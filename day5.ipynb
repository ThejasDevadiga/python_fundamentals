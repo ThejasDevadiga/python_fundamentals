{
 "cells": [
  {
   "cell_type": "code",
   "execution_count": 29,
   "metadata": {},
   "outputs": [],
   "source": [
    "def substitute(ascii_val,increment):\n",
    "    \n",
    "    if 97<=ascii_val <=122:\n",
    "        if ascii_val>=122-increment:\n",
    "            ascii_val = 97+( increment-(122-ascii_val))\n",
    "        else:\n",
    "            ascii_val += increment\n",
    "    elif 65<=ascii_val <=90:\n",
    "        if ascii_val>=90-increment:\n",
    "            ascii_val =65+( increment-(90-ascii_val))\n",
    "        else:\n",
    "            ascii_val += increment\n",
    "    return ascii_val\n"
   ]
  },
  {
   "cell_type": "code",
   "execution_count": 30,
   "metadata": {},
   "outputs": [
    {
     "data": {
      "text/plain": [
       "'qbsl'"
      ]
     },
     "execution_count": 30,
     "metadata": {},
     "output_type": "execute_result"
    }
   ],
   "source": [
    "def custom_ord(char):\n",
    "    \"\"\"\n",
    "    This function return the ASCII value of the charecter\n",
    "\n",
    "    Args:\n",
    "        char (charecter): It should be an Integer\n",
    "\n",
    "    Returns:\n",
    "        int (Integer): It returns an Integer value \n",
    "    \"\"\"\n",
    "    return bytearray(char,\"utf-8\")[0]\n",
    "def encrypt(key,text):\n",
    "    \"\"\"\n",
    "    This function is used to encrypt the text by key\n",
    "\n",
    "    Args:\n",
    "        key (string): Its the key used for the encryption \n",
    "        text (string): This string is encrypted \n",
    "\n",
    "    Raises:\n",
    "        ValueError: Error if the length of the key and the value are different\n",
    "\n",
    "    Returns:\n",
    "        string: Output of this is encrypted text\n",
    "    \"\"\"\n",
    "    encrypted_text = \"\"\n",
    "    try:\n",
    "        if not len(key)== len(text):\n",
    "            raise ValueError(\"Both string should have same string\")\n",
    "        for i, j in zip(key,text):\n",
    "         \n",
    "            if 97<=ord(i) <=122:\n",
    "                increment = ord(i)-97\n",
    "            elif 65<=ord(i)<=90:\n",
    "                increment = ord(i)-65\n",
    "            else:\n",
    "                increment = 1\n",
    "            encrypted_text +=chr(substitute(ord(j),increment))\n",
    "        return encrypted_text\n",
    "    except Exception as e:\n",
    "        print(e)\n",
    "\n",
    "\n",
    "encrypt(\"bbbb\",\"park\")"
   ]
  },
  {
   "cell_type": "code",
   "execution_count": 49,
   "metadata": {},
   "outputs": [
    {
     "name": "stdout",
     "output_type": "stream",
     "text": [
      "Both string should have same string\n"
     ]
    }
   ],
   "source": [
    "\n",
    "    \n",
    "    \n",
    "def decrypt(text:str,key:str)-> str :\n",
    "    encrypted_text = \"\"\n",
    "    try:\n",
    "        if not len(key)== len(text):\n",
    "            raise ValueError(\"Both string should have same string\")\n",
    "        for i, j in zip(key,text):\n",
    "         \n",
    "            if 97<=ord(i) <=122:\n",
    "                increment = ord(i)-97\n",
    "            elif 65<=ord(i)<=90:\n",
    "                increment = ord(i)-65\n",
    "            else:\n",
    "                increment = 1\n",
    "            encrypted_text +=chr(substitute(ord(j),-increment))\n",
    "        return encrypted_text\n",
    "    except Exception as e:\n",
    "        print(e)\n",
    "text = \"jurrasicpark\"\n",
    "key = \"dbghdffseh\"\n",
    "enc_text = encrypt(key,text)\n",
    "if  enc_text:\n",
    "    print(\"Encrypted text is \",enc_text)\n",
    "    dec_text = decrypt(enc_text,key) \n",
    "    print(\"Decrypted text is :\",dec_text)\n",
    "    "
   ]
  },
  {
   "cell_type": "code",
   "execution_count": 149,
   "metadata": {},
   "outputs": [
    {
     "name": "stdout",
     "output_type": "stream",
     "text": [
      "zyyz\n"
     ]
    },
    {
     "data": {
      "text/plain": [
       "'axxa'"
      ]
     },
     "execution_count": 149,
     "metadata": {},
     "output_type": "execute_result"
    }
   ],
   "source": [
    "LETTERS = \"abcdefghijklmnopqrstuvwxyz\"\n",
    "def substitute(char,n):\n",
    "    if char in LETTERS:\n",
    "        return LETTERS[(LETTERS.index(char)+n)%26]\n",
    "    \n",
    "def encryption(text,key):\n",
    "    key = \"\".join([key for i in range(int(len(text)/len(key)))])\n",
    "    key = key+key[0:len(text)-len(key) ] \n",
    "    encrypted_text = \"\"\n",
    "    for pos , cp in enumerate(text):\n",
    "        key_cp = key[pos]\n",
    "        n = LETTERS.index(key_cp)\n",
    "        en_cp = substitute(cp,n+1)\n",
    "        encrypted_text +=en_cp\n",
    "    return encrypted_text\n",
    "\n",
    "def decryption(text,key):\n",
    "    key = \"\".join([key for i in range(int(len(text)/len(key)))])\n",
    "    key = key+key[0:len(text)-len(key) ] \n",
    "    decrypted_text = \"\"\n",
    "    for pos , cp in enumerate(text):\n",
    "        key_cp = key[pos]\n",
    "        n = LETTERS.index(key_cp)\n",
    "        en_cp = substitute(cp,-n-1)\n",
    "        decrypted_text +=en_cp\n",
    "        \n",
    "    return decrypted_text\n",
    "text = \"axxa\"\n",
    "key= \"yaay\"\n",
    "print(encryption(text,key))\n",
    "text = encryption(text,key)\n",
    "decryption(text,key)"
   ]
  },
  {
   "cell_type": "code",
   "execution_count": 172,
   "metadata": {},
   "outputs": [
    {
     "data": {
      "text/plain": [
       "[2, 3, 5, 7]"
      ]
     },
     "execution_count": 172,
     "metadata": {},
     "output_type": "execute_result"
    }
   ],
   "source": [
    "def sieve_prime(n):\n",
    "    nums = [True] * (n + 1)\n",
    "    nums[0] = nums[1] = False\n",
    "    for i in range(2, int(n ** 0.5) + 1):\n",
    "        if nums[i]:\n",
    "            for j in range(i ** 2, n + 1, i):\n",
    "                nums[j] = False\n",
    "    return [i for i in range(n + 1) if nums[i]]\n",
    "sieve_prime(10)"
   ]
  },
  {
   "cell_type": "code",
   "execution_count": 176,
   "metadata": {},
   "outputs": [
    {
     "data": {
      "text/plain": [
       "[0, 1, 2, 3, 4, 0, 1, 2, 3, 4]"
      ]
     },
     "execution_count": 176,
     "metadata": {},
     "output_type": "execute_result"
    }
   ],
   "source": [
    "[i for i in range(5)]+[i for i in range(5)]"
   ]
  },
  {
   "cell_type": "markdown",
   "metadata": {
    "slideshow": {
     "slide_type": "skip"
    }
   },
   "source": [
    "COLLATZ"
   ]
  },
  {
   "cell_type": "code",
   "execution_count": 8,
   "metadata": {},
   "outputs": [
    {
     "data": {
      "text/plain": [
       "5"
      ]
     },
     "execution_count": 8,
     "metadata": {},
     "output_type": "execute_result"
    }
   ],
   "source": [
    "#  write a code for 3x+1 problem\n",
    "# 3x+1 problem: https://en.wikipedia.org/wiki/Collatz_conjecture\n",
    "# 1. take a number from user\n",
    "# 2. if number is even, divide it by 2\n",
    "# 3. if number is odd, multiply it by 3 and add 1\n",
    "# 4. repeat the process until number is 1\n",
    "# 5. print the number of steps taken to reach 1\n",
    "\n",
    "def collatz(n):\n",
    "    steps = 0\n",
    "    while n!=1:\n",
    "        if n%2==0:\n",
    "            n = n/2\n",
    "        else:\n",
    "            n = 3*n+1\n",
    "        steps += 1\n",
    "    return steps\n",
    "collatz(5)"
   ]
  },
  {
   "cell_type": "code",
   "execution_count": 21,
   "metadata": {},
   "outputs": [
    {
     "data": {
      "text/plain": [
       "([[0, 0, 0], [0, 0, 0], [0, 0, 0]], [0, 1, 2, 3, 4, 5, 6, 7, 8])"
      ]
     },
     "execution_count": 21,
     "metadata": {},
     "output_type": "execute_result"
    }
   ],
   "source": [
    "#  write a code for spiral matrix\n",
    "#  input: 3\n",
    "#  output: 1 2 3\n",
    "#          8 9 4\n",
    "#          7 6 5\n",
    "\n",
    "# n=int(input())\n",
    "\n",
    "a,b"
   ]
  },
  {
   "cell_type": "code",
   "execution_count": 1,
   "metadata": {},
   "outputs": [
    {
     "data": {
      "text/plain": [
       "[[1, 2, 3, 4], [0, 0, 0, 0], [0, 0, 0, 0], [0, 0, 0, 0]]"
      ]
     },
     "execution_count": 1,
     "metadata": {},
     "output_type": "execute_result"
    }
   ],
   "source": [
    "n = 4\n",
    "a=[[0 for i in range(n)] for j in range(n)]\n",
    "b = [i for i in range(n*n)]\n",
    "pos = 1\n",
    "row1 = False\n",
    "row2 = False\n",
    "row3 = False\n",
    "while pos<=(n*n):\n",
    "    if not row1:\n",
    "        for val in range(len(a[0])):\n",
    "            a[0][val] = pos\n",
    "            pos+=1\n",
    "    row1 = True\n",
    "    \n",
    "    \n",
    "    \n",
    "    pos+=1\n",
    "    \n",
    "a"
   ]
  },
  {
   "cell_type": "code",
   "execution_count": 12,
   "metadata": {},
   "outputs": [
    {
     "name": "stdout",
     "output_type": "stream",
     "text": [
      "0 0\n",
      "0 1\n",
      "0 2\n",
      "\n",
      "\n",
      "\n",
      "1 2\n",
      "2 2\n",
      "\n",
      "\n",
      "\n",
      "2 1\n",
      "2 0\n",
      "\n",
      "\n",
      "\n",
      "1 0\n",
      "\n",
      "\n",
      "1 1\n",
      "\n",
      "\n",
      "\n",
      "\n",
      "\n",
      "\n",
      "\n",
      "\n",
      "\n",
      "\n",
      "\n"
     ]
    },
    {
     "data": {
      "text/plain": [
       "[[1, 2, 3], [8, 9, 4], [7, 6, 5]]"
      ]
     },
     "execution_count": 12,
     "metadata": {},
     "output_type": "execute_result"
    }
   ],
   "source": [
    "def generateMatrix(n):\n",
    "    matrix = [[0 for i in range(n)] for j in range(n)]\n",
    "    row_start = 0\n",
    "    row_end = n-1\n",
    "    col_start = 0\n",
    "    col_end = n-1\n",
    "    count = 1\n",
    "    while row_start <= row_end and col_start <= col_end:\n",
    "        for i in range(col_start, col_end+1):\n",
    "            print(row_start,i)\n",
    "            matrix[row_start][i] = count\n",
    "            count += 1\n",
    "        row_start += 1\n",
    "        print(\"\\n\\n\")\n",
    "        for i in range(row_start, row_end+1):\n",
    "            print(i,col_end)\n",
    "            matrix[i][col_end] = count\n",
    "            count += 1\n",
    "        col_end -= 1\n",
    "        print(\"\\n\\n\")\n",
    "        for i in range(col_end, col_start-1, -1):\n",
    "            print(row_end,i)\n",
    "            matrix[row_end][i] = count\n",
    "            count += 1\n",
    "        row_end -= 1\n",
    "        print(\"\\n\\n\")\n",
    "        for i in range(row_end, row_start-1, -1):\n",
    "            print(i,col_start)\n",
    "            matrix[i][col_start] = count\n",
    "            count += 1\n",
    "        col_start += 1\n",
    "        print(\"\\n\")\n",
    "    return matrix\n",
    "generateMatrix(3)"
   ]
  },
  {
   "cell_type": "code",
   "execution_count": 20,
   "metadata": {},
   "outputs": [
    {
     "name": "stdout",
     "output_type": "stream",
     "text": [
      "[0, 0]\n",
      "[0, 1]\n",
      "[0, 2]\n"
     ]
    },
    {
     "data": {
      "text/plain": [
       "[[None, None],\n",
       " [None, None],\n",
       " [None, None],\n",
       " [None, None],\n",
       " [None, None],\n",
       " [None, None],\n",
       " [None, None],\n",
       " [None, None],\n",
       " [None, None]]"
      ]
     },
     "execution_count": 20,
     "metadata": {},
     "output_type": "execute_result"
    }
   ],
   "source": [
    "ls = [[None,None] for i in range(3*3)]\n",
    "est = (0,+1)\n",
    "wst = (1,0)\n",
    "nth = (0,-1)\n",
    "sth = (-1,0)\n",
    "dirs = [est, wst, nth, sth]\n",
    "pos = [0,0]\n",
    "dirc = 0\n",
    "for i in range(9):\n",
    "    if 0<=pos[0]<3 and 0<=pos[1]<3 :\n",
    "        print(pos)\n",
    "        pos =[ pos[0]+dirs[dirc][0],pos[1]+dirs[dirc][1] ] \n",
    "        # ls[pos[0]][pos[1]] =i \n",
    "        \n",
    "ls  "
   ]
  },
  {
   "cell_type": "code",
   "execution_count": 17,
   "metadata": {},
   "outputs": [
    {
     "name": "stdout",
     "output_type": "stream",
     "text": [
      "1200 14375 14425\n",
      "1875 14000 14125\n",
      "5000 12000 13000\n",
      "6000 11250 12750\n",
      "7500 10000 12500\n"
     ]
    }
   ],
   "source": [
    "n=30000\n",
    "for i in range(1,n//3-1):\n",
    "    for j in range(i+1,n//2):\n",
    "        k= n-(i+j)\n",
    "        if i+j+k ==n and i**2+j**2==k**2:print(i,j,k)\n",
    "                "
   ]
  },
  {
   "cell_type": "code",
   "execution_count": 28,
   "metadata": {},
   "outputs": [
    {
     "name": "stdout",
     "output_type": "stream",
     "text": [
      "[120000, 1437500, 1442500]\n",
      "[187500, 1400000, 1412500]\n",
      "[500000, 1200000, 1300000]\n",
      "[600000, 1125000, 1275000]\n",
      "[656250, 1080000, 1263750]\n",
      "[696000, 1046875, 1257125]\n",
      "[750000, 1000000, 1250000]\n"
     ]
    },
    {
     "ename": "TypeError",
     "evalue": "int() argument must be a string, a bytes-like object or a real number, not 'complex'",
     "output_type": "error",
     "traceback": [
      "\u001b[1;31m---------------------------------------------------------------------------\u001b[0m",
      "\u001b[1;31mTypeError\u001b[0m                                 Traceback (most recent call last)",
      "Cell \u001b[1;32mIn[28], line 7\u001b[0m\n\u001b[0;32m      5\u001b[0m         \u001b[39mif\u001b[39;00m D \u001b[39mis\u001b[39;00m \u001b[39mnot\u001b[39;00m \u001b[39mcomplex\u001b[39m \u001b[39mand\u001b[39;00m D\u001b[39m==\u001b[39m\u001b[39mint\u001b[39m(D):\n\u001b[0;32m      6\u001b[0m             \u001b[39mprint\u001b[39m([\u001b[39mint\u001b[39m((N\u001b[39m-\u001b[39mc\u001b[39m-\u001b[39mD)\u001b[39m/\u001b[39m\u001b[39m2\u001b[39m),\u001b[39mint\u001b[39m((N\u001b[39m-\u001b[39mc\u001b[39m+\u001b[39mD)\u001b[39m/\u001b[39m\u001b[39m2\u001b[39m),c])\n\u001b[1;32m----> 7\u001b[0m triplet(\u001b[39m3000000\u001b[39;49m)\n",
      "Cell \u001b[1;32mIn[28], line 5\u001b[0m, in \u001b[0;36mtriplet\u001b[1;34m(n)\u001b[0m\n\u001b[0;32m      3\u001b[0m \u001b[39mfor\u001b[39;00m c \u001b[39min\u001b[39;00m \u001b[39mrange\u001b[39m(\u001b[39mint\u001b[39m(N\u001b[39m/\u001b[39m\u001b[39m2\u001b[39m)\u001b[39m-\u001b[39m\u001b[39m1\u001b[39m,\u001b[39mint\u001b[39m(\u001b[39m2\u001b[39m\u001b[39m*\u001b[39m\u001b[39m*\u001b[39m\u001b[39m0.5\u001b[39m\u001b[39m-\u001b[39m\u001b[39m1\u001b[39m),\u001b[39m-\u001b[39m\u001b[39m1\u001b[39m):\n\u001b[0;32m      4\u001b[0m     D \u001b[39m=\u001b[39m (c\u001b[39m*\u001b[39m\u001b[39m*\u001b[39m\u001b[39m2\u001b[39m\u001b[39m-\u001b[39mN\u001b[39m*\u001b[39m\u001b[39m*\u001b[39m\u001b[39m2\u001b[39m\u001b[39m+\u001b[39m\u001b[39m2\u001b[39m\u001b[39m*\u001b[39mN\u001b[39m*\u001b[39mc)\u001b[39m*\u001b[39m\u001b[39m*\u001b[39m\u001b[39m0.5\u001b[39m\n\u001b[1;32m----> 5\u001b[0m     \u001b[39mif\u001b[39;00m D \u001b[39mis\u001b[39;00m \u001b[39mnot\u001b[39;00m \u001b[39mcomplex\u001b[39m \u001b[39mand\u001b[39;00m D\u001b[39m==\u001b[39m\u001b[39mint\u001b[39;49m(D):\n\u001b[0;32m      6\u001b[0m         \u001b[39mprint\u001b[39m([\u001b[39mint\u001b[39m((N\u001b[39m-\u001b[39mc\u001b[39m-\u001b[39mD)\u001b[39m/\u001b[39m\u001b[39m2\u001b[39m),\u001b[39mint\u001b[39m((N\u001b[39m-\u001b[39mc\u001b[39m+\u001b[39mD)\u001b[39m/\u001b[39m\u001b[39m2\u001b[39m),c])\n",
      "\u001b[1;31mTypeError\u001b[0m: int() argument must be a string, a bytes-like object or a real number, not 'complex'"
     ]
    }
   ],
   "source": [
    "def triplet(n): \n",
    "    N = float(n)\n",
    "    for c in range(int(N/2)-1,int(2**0.5-1),-1):\n",
    "        D = (c**2-N**2+2*N*c)**0.5\n",
    "        if D==int(D):\n",
    "            print([int((N-c-D)/2),int((N-c+D)/2),c])\n",
    "triplet(3000000)"
   ]
  },
  {
   "cell_type": "code",
   "execution_count": 31,
   "metadata": {},
   "outputs": [
    {
     "name": "stdout",
     "output_type": "stream",
     "text": [
      "dfg\n"
     ]
    },
    {
     "data": {
      "text/plain": [
       "complex"
      ]
     },
     "execution_count": 31,
     "metadata": {},
     "output_type": "execute_result"
    }
   ],
   "source": [
    "a = complex(10)\n",
    "if a:\n",
    "    \n",
    "    print(\"dfg\")\n",
    "type(a)"
   ]
  },
  {
   "cell_type": "code",
   "execution_count": null,
   "metadata": {},
   "outputs": [],
   "source": [
    "Feedback.\n",
    "\n",
    "https://docs.google.com/forms/d/e/1FAIpQLSdTWA_DXLyhuoIUbmczYYU8MI6dRC_w_J8LIaTnYhO7SmdnBg/viewform?usp=sf_link\n",
    "\n",
    "https://forms.gle/YHqPsVChMVfFeLTd6\n",
    "\n",
    "\n",
    "Quiz.\n",
    "https://docs.google.com/forms/d/e/1FAIpQLSdf3f9gcmpxD6ANCNPEhMMeKgXesFpJ8DvPZOKYSR6chi55Jw/viewform?usp=sf_link\n",
    "https://forms.gle/pAbV5oFzi38yF2559\n"
   ]
  },
  {
   "cell_type": "code",
   "execution_count": 37,
   "metadata": {},
   "outputs": [
    {
     "data": {
      "text/plain": [
       "'1'"
      ]
     },
     "execution_count": 37,
     "metadata": {},
     "output_type": "execute_result"
    }
   ],
   "source": [
    "'1'.lower()"
   ]
  },
  {
   "cell_type": "code",
   "execution_count": 47,
   "metadata": {},
   "outputs": [
    {
     "data": {
      "text/plain": [
       "True"
      ]
     },
     "execution_count": 47,
     "metadata": {},
     "output_type": "execute_result"
    }
   ],
   "source": []
  },
  {
   "cell_type": "code",
   "execution_count": 50,
   "metadata": {},
   "outputs": [
    {
     "name": "stdout",
     "output_type": "stream",
     "text": [
      "a\n"
     ]
    },
    {
     "data": {
      "text/plain": [
       "False"
      ]
     },
     "execution_count": 50,
     "metadata": {},
     "output_type": "execute_result"
    }
   ],
   "source": [
    "def is_panagram(s):\n",
    "    for i in \"abcdefghijklmnopqrstuvwxyz\":\n",
    "        if i not in s.lower() :\n",
    "            \n",
    "            return False\n",
    "    return True\n",
    "is_panagram('bcdenopqrstuvwxyz')"
   ]
  },
  {
   "cell_type": "code",
   "execution_count": 54,
   "metadata": {},
   "outputs": [
    {
     "name": "stdout",
     "output_type": "stream",
     "text": [
      "!\n",
      "World\n"
     ]
    }
   ],
   "source": [
    "my_string = \"Hello, World!\"\n",
    "\n",
    "result = my_string[7:12]\n",
    "\n",
    "print(result)"
   ]
  },
  {
   "cell_type": "code",
   "execution_count": 56,
   "metadata": {},
   "outputs": [
    {
     "name": "stdout",
     "output_type": "stream",
     "text": [
      "[9, 8, 7, 6]\n"
     ]
    }
   ],
   "source": [
    "a = [1,2,3,4,5,6,7,8,9]\n",
    "\n",
    "print(a[-1:-5:-1])"
   ]
  },
  {
   "cell_type": "code",
   "execution_count": 62,
   "metadata": {},
   "outputs": [
    {
     "name": "stdout",
     "output_type": "stream",
     "text": [
      "Execution time of the program is- 1.1917644000022847\n"
     ]
    }
   ],
   "source": [
    "import timeit\n",
    "\n",
    "test_code = \"\"\"\n",
    "a = range(100000)\n",
    "b = []\n",
    "for i in a:\n",
    "    b.append(i+2)\n",
    "\"\"\"\n",
    "\n",
    "total_time = timeit.timeit(test_code, number=200)\n",
    "print(\"Execution time of the program is-\", total_time)"
   ]
  },
  {
   "cell_type": "code",
   "execution_count": 63,
   "metadata": {},
   "outputs": [
    {
     "name": "stdout",
     "output_type": "stream",
     "text": [
      "Execution time of the program is- 0.7219170999997004\n"
     ]
    }
   ],
   "source": [
    "import timeit\n",
    "\n",
    "test_code = \"\"\"\n",
    "a = range(100000)\n",
    "b = [i+2 for i in a]\n",
    "\"\"\"\n",
    "\n",
    "total_time = timeit.timeit(test_code, number=200)\n",
    "print(\"Execution time of the program is-\", total_time)"
   ]
  },
  {
   "cell_type": "code",
   "execution_count": null,
   "metadata": {},
   "outputs": [],
   "source": [
    "import timeit\n",
    "\n",
    "test_code = \"\"\"\n",
    "a = range(100000)\n",
    "b = [i+2 for i in a]\n",
    "for i in a:\n",
    "    b.append(i+2)\n",
    "\"\"\"\n",
    "\n",
    "total_time = timeit.timeit(test_code, number=200)\n",
    "print(\"Execution time of the program is-\", total_time)"
   ]
  },
  {
   "cell_type": "code",
   "execution_count": 64,
   "metadata": {},
   "outputs": [
    {
     "data": {
      "text/plain": [
       "1454173326672"
      ]
     },
     "execution_count": 64,
     "metadata": {},
     "output_type": "execute_result"
    }
   ],
   "source": [
    "#  Address of variable\n",
    "i = 100\n",
    "id(i)"
   ]
  },
  {
   "cell_type": "code",
   "execution_count": 65,
   "metadata": {},
   "outputs": [
    {
     "data": {
      "text/plain": [
       "'0x152937c0d50'"
      ]
     },
     "execution_count": 65,
     "metadata": {},
     "output_type": "execute_result"
    }
   ],
   "source": [
    "hex(id(i))"
   ]
  },
  {
   "cell_type": "code",
   "execution_count": 66,
   "metadata": {},
   "outputs": [
    {
     "data": {
      "text/plain": [
       "'0x152937c0d70'"
      ]
     },
     "execution_count": 66,
     "metadata": {},
     "output_type": "execute_result"
    }
   ],
   "source": [
    "i+=1\n",
    "hex(id(i))"
   ]
  },
  {
   "cell_type": "code",
   "execution_count": 74,
   "metadata": {},
   "outputs": [
    {
     "name": "stdout",
     "output_type": "stream",
     "text": [
      "1454173323792 1454173324112\n",
      "1454173324432\n",
      "30\n"
     ]
    }
   ],
   "source": [
    "import ctypes\n",
    "\n",
    "def add(add1,add2):\n",
    "    print(add1,add2)\n",
    "    return id(ctypes.cast(add1, ctypes.py_object).value+ctypes.cast(add2, ctypes.py_object).value)\n",
    "\n",
    "i = 10\n",
    "j = 20\n",
    "addrs = add(id(i),id(j))\n",
    "print(addrs)\n",
    "print(ctypes.cast(addrs, ctypes.py_object).value)"
   ]
  },
  {
   "cell_type": "code",
   "execution_count": null,
   "metadata": {},
   "outputs": [],
   "source": []
  }
 ],
 "metadata": {
  "kernelspec": {
   "display_name": "Python 3",
   "language": "python",
   "name": "python3"
  },
  "language_info": {
   "codemirror_mode": {
    "name": "ipython",
    "version": 3
   },
   "file_extension": ".py",
   "mimetype": "text/x-python",
   "name": "python",
   "nbconvert_exporter": "python",
   "pygments_lexer": "ipython3",
   "version": "3.10.10"
  },
  "orig_nbformat": 4
 },
 "nbformat": 4,
 "nbformat_minor": 2
}
