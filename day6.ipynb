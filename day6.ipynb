{
 "cells": [
  {
   "cell_type": "code",
   "execution_count": 29,
   "metadata": {},
   "outputs": [
    {
     "data": {
      "text/plain": [
       "[1]"
      ]
     },
     "execution_count": 29,
     "metadata": {},
     "output_type": "execute_result"
    }
   ],
   "source": [
    "def coin_change(n):\n",
    "    coins = []\n",
    "    for i in [1,2,5,10,20,50,100,500,1000][::-1]:\n",
    "        while n >= i and int(n)!=0 : \n",
    "            if n%i>=0:\n",
    "                coins.append(i)\n",
    "                n-=i\n",
    "    return coins\n",
    "        \n",
    "coin_change(1)"
   ]
  },
  {
   "cell_type": "code",
   "execution_count": 35,
   "metadata": {},
   "outputs": [
    {
     "data": {
      "text/plain": [
       "[[0, 0, 0], [0, 0, 0], [0, 0, 0]]"
      ]
     },
     "execution_count": 35,
     "metadata": {},
     "output_type": "execute_result"
    }
   ],
   "source": [
    "#  algorithm of spiral matrix\n",
    "#  1. create a matrix with all zeros\n",
    "#  2. set the first element to 1\n",
    "#  3. set the next element to 2\n",
    "#  4. if the next element is out of range or not zero, change the direction\n",
    "#  5. repeat 3 and 4 until the last element is set\n",
    "#  6. return the matrix\n",
    "#  7. print the matrix\n",
    "def spiral_matrix(m):\n",
    "    matrix = [[0 for i in range(m)] for i in range(m)]\n",
    "    direction = 0\n",
    "    row = 0\n",
    "    col = 0\n",
    "    \n",
    "    \n",
    "    return matrix\n",
    "spiral_matrix(3)\n"
   ]
  },
  {
   "cell_type": "code",
   "execution_count": null,
   "metadata": {},
   "outputs": [],
   "source": [
    " "
   ]
  }
 ],
 "metadata": {
  "kernelspec": {
   "display_name": "Python 3",
   "language": "python",
   "name": "python3"
  },
  "language_info": {
   "codemirror_mode": {
    "name": "ipython",
    "version": 3
   },
   "file_extension": ".py",
   "mimetype": "text/x-python",
   "name": "python",
   "nbconvert_exporter": "python",
   "pygments_lexer": "ipython3",
   "version": "3.10.10"
  },
  "orig_nbformat": 4
 },
 "nbformat": 4,
 "nbformat_minor": 2
}
